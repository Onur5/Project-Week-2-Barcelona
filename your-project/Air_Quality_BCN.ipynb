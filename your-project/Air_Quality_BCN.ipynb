{
 "cells": [
  {
   "cell_type": "markdown",
   "metadata": {},
   "source": [
    "# Air quality analysis in Barcelona"
   ]
  },
  {
   "cell_type": "markdown",
   "metadata": {},
   "source": []
  },
  {
   "cell_type": "markdown",
   "metadata": {},
   "source": [
    "## 1. Data import and cleaning"
   ]
  },
  {
   "cell_type": "code",
   "execution_count": 1,
   "metadata": {},
   "outputs": [],
   "source": [
    "## import libraries\n",
    "\n",
    "import pandas as pd \n",
    "import sqlalchemy \n",
    "import datetime "
   ]
  },
  {
   "cell_type": "code",
   "execution_count": 2,
   "metadata": {},
   "outputs": [],
   "source": [
    "raw_data = pd.read_csv('air_quality_Nov2017.csv')\n",
    "station_links = pd.read_csv('air_stations_Nov2017.csv')"
   ]
  },
  {
   "cell_type": "code",
   "execution_count": 3,
   "metadata": {},
   "outputs": [
    {
     "data": {
      "text/html": [
       "<div>\n",
       "<style scoped>\n",
       "    .dataframe tbody tr th:only-of-type {\n",
       "        vertical-align: middle;\n",
       "    }\n",
       "\n",
       "    .dataframe tbody tr th {\n",
       "        vertical-align: top;\n",
       "    }\n",
       "\n",
       "    .dataframe thead th {\n",
       "        text-align: right;\n",
       "    }\n",
       "</style>\n",
       "<table border=\"1\" class=\"dataframe\">\n",
       "  <thead>\n",
       "    <tr style=\"text-align: right;\">\n",
       "      <th></th>\n",
       "      <th>Station</th>\n",
       "      <th>Air Quality</th>\n",
       "      <th>Longitude</th>\n",
       "      <th>Latitude</th>\n",
       "      <th>O3 Hour</th>\n",
       "      <th>O3 Quality</th>\n",
       "      <th>O3 Value</th>\n",
       "      <th>NO2 Hour</th>\n",
       "      <th>NO2 Quality</th>\n",
       "      <th>NO2 Value</th>\n",
       "      <th>PM10 Hour</th>\n",
       "      <th>PM10 Quality</th>\n",
       "      <th>PM10 Value</th>\n",
       "      <th>Generated</th>\n",
       "      <th>Date Time</th>\n",
       "    </tr>\n",
       "  </thead>\n",
       "  <tbody>\n",
       "    <tr>\n",
       "      <th>0</th>\n",
       "      <td>Barcelona - Sants</td>\n",
       "      <td>Good</td>\n",
       "      <td>2.1331</td>\n",
       "      <td>41.3788</td>\n",
       "      <td>NaN</td>\n",
       "      <td>NaN</td>\n",
       "      <td>NaN</td>\n",
       "      <td>0h</td>\n",
       "      <td>Good</td>\n",
       "      <td>84.0</td>\n",
       "      <td>NaN</td>\n",
       "      <td>NaN</td>\n",
       "      <td>NaN</td>\n",
       "      <td>01/11/2018 0:00</td>\n",
       "      <td>1541027104</td>\n",
       "    </tr>\n",
       "    <tr>\n",
       "      <th>1</th>\n",
       "      <td>Barcelona - Eixample</td>\n",
       "      <td>Moderate</td>\n",
       "      <td>2.1538</td>\n",
       "      <td>41.3853</td>\n",
       "      <td>0h</td>\n",
       "      <td>Good</td>\n",
       "      <td>1.0</td>\n",
       "      <td>0h</td>\n",
       "      <td>Moderate</td>\n",
       "      <td>113.0</td>\n",
       "      <td>0h</td>\n",
       "      <td>Good</td>\n",
       "      <td>36.0</td>\n",
       "      <td>01/11/2018 0:00</td>\n",
       "      <td>1541027104</td>\n",
       "    </tr>\n",
       "    <tr>\n",
       "      <th>2</th>\n",
       "      <td>Barcelona - Gràcia</td>\n",
       "      <td>Good</td>\n",
       "      <td>2.1534</td>\n",
       "      <td>41.3987</td>\n",
       "      <td>0h</td>\n",
       "      <td>Good</td>\n",
       "      <td>10.0</td>\n",
       "      <td>0h</td>\n",
       "      <td>Good</td>\n",
       "      <td>73.0</td>\n",
       "      <td>NaN</td>\n",
       "      <td>NaN</td>\n",
       "      <td>NaN</td>\n",
       "      <td>01/11/2018 0:00</td>\n",
       "      <td>1541027104</td>\n",
       "    </tr>\n",
       "    <tr>\n",
       "      <th>3</th>\n",
       "      <td>Barcelona - Ciutadella</td>\n",
       "      <td>Good</td>\n",
       "      <td>2.1874</td>\n",
       "      <td>41.3864</td>\n",
       "      <td>0h</td>\n",
       "      <td>Good</td>\n",
       "      <td>2.0</td>\n",
       "      <td>0h</td>\n",
       "      <td>Good</td>\n",
       "      <td>86.0</td>\n",
       "      <td>NaN</td>\n",
       "      <td>NaN</td>\n",
       "      <td>NaN</td>\n",
       "      <td>01/11/2018 0:00</td>\n",
       "      <td>1541027104</td>\n",
       "    </tr>\n",
       "    <tr>\n",
       "      <th>4</th>\n",
       "      <td>Barcelona - Vall Hebron</td>\n",
       "      <td>Good</td>\n",
       "      <td>2.1480</td>\n",
       "      <td>41.4261</td>\n",
       "      <td>0h</td>\n",
       "      <td>Good</td>\n",
       "      <td>7.0</td>\n",
       "      <td>0h</td>\n",
       "      <td>Good</td>\n",
       "      <td>69.0</td>\n",
       "      <td>NaN</td>\n",
       "      <td>NaN</td>\n",
       "      <td>NaN</td>\n",
       "      <td>01/11/2018 0:00</td>\n",
       "      <td>1541027104</td>\n",
       "    </tr>\n",
       "  </tbody>\n",
       "</table>\n",
       "</div>"
      ],
      "text/plain": [
       "                   Station Air Quality  Longitude  Latitude O3 Hour  \\\n",
       "0        Barcelona - Sants        Good     2.1331   41.3788     NaN   \n",
       "1     Barcelona - Eixample    Moderate     2.1538   41.3853      0h   \n",
       "2       Barcelona - Gràcia        Good     2.1534   41.3987      0h   \n",
       "3   Barcelona - Ciutadella        Good     2.1874   41.3864      0h   \n",
       "4  Barcelona - Vall Hebron        Good     2.1480   41.4261      0h   \n",
       "\n",
       "  O3 Quality  O3 Value NO2 Hour NO2 Quality  NO2 Value PM10 Hour PM10 Quality  \\\n",
       "0        NaN       NaN       0h        Good       84.0       NaN          NaN   \n",
       "1       Good       1.0       0h    Moderate      113.0        0h         Good   \n",
       "2       Good      10.0       0h        Good       73.0       NaN          NaN   \n",
       "3       Good       2.0       0h        Good       86.0       NaN          NaN   \n",
       "4       Good       7.0       0h        Good       69.0       NaN          NaN   \n",
       "\n",
       "   PM10 Value        Generated   Date Time  \n",
       "0         NaN  01/11/2018 0:00  1541027104  \n",
       "1        36.0  01/11/2018 0:00  1541027104  \n",
       "2         NaN  01/11/2018 0:00  1541027104  \n",
       "3         NaN  01/11/2018 0:00  1541027104  \n",
       "4         NaN  01/11/2018 0:00  1541027104  "
      ]
     },
     "execution_count": 3,
     "metadata": {},
     "output_type": "execute_result"
    }
   ],
   "source": [
    "raw_data.head()"
   ]
  },
  {
   "cell_type": "markdown",
   "metadata": {},
   "source": [
    "We remove the columns that are not needed for our analysis. In this case, the columns that are needed are: \n",
    "- Station\n",
    "- Air Quality \n",
    "- O3 Quality\n",
    "- 03 Value\n",
    "- NO2 Quality\n",
    "- NO2 Value\n",
    "- PM10 Quality\n",
    "- PM10 Value \n",
    "- Generated \n",
    "- Date Time "
   ]
  },
  {
   "cell_type": "code",
   "execution_count": 4,
   "metadata": {},
   "outputs": [
    {
     "name": "stdout",
     "output_type": "stream",
     "text": [
      "['Station', 'Air Quality', 'Longitude', 'Latitude', 'O3 Hour', 'O3 Quality', 'O3 Value', 'NO2 Hour', 'NO2 Quality', 'NO2 Value', 'PM10 Hour', 'PM10 Quality', 'PM10 Value', 'Generated', 'Date Time']\n"
     ]
    }
   ],
   "source": [
    "print(raw_data.columns.tolist())"
   ]
  },
  {
   "cell_type": "code",
   "execution_count": 5,
   "metadata": {},
   "outputs": [],
   "source": [
    "raw_data_selected = raw_data.copy()\n",
    "\n",
    "raw_data_selected = raw_data[['Station', 'Air Quality', 'O3 Quality', 'O3 Value', 'NO2 Quality', 'NO2 Value', 'PM10 Quality', 'PM10 Value', 'Generated']]"
   ]
  },
  {
   "cell_type": "markdown",
   "metadata": {},
   "source": [
    "### Analyzing the type of each attribute of the dataset"
   ]
  },
  {
   "cell_type": "code",
   "execution_count": 6,
   "metadata": {},
   "outputs": [
    {
     "data": {
      "text/plain": [
       "Station          object\n",
       "Air Quality      object\n",
       "O3 Quality       object\n",
       "O3 Value        float64\n",
       "NO2 Quality      object\n",
       "NO2 Value       float64\n",
       "PM10 Quality     object\n",
       "PM10 Value      float64\n",
       "Generated        object\n",
       "dtype: object"
      ]
     },
     "execution_count": 6,
     "metadata": {},
     "output_type": "execute_result"
    }
   ],
   "source": [
    "\n",
    "raw_data_selected.dtypes"
   ]
  },
  {
   "cell_type": "markdown",
   "metadata": {},
   "source": [
    "### Missing values\n",
    "\n",
    "There are several ways to deal with missing values, in this case NaN values.\n",
    "First of all, we need to know how many NaN values we have in our dataset. "
   ]
  },
  {
   "cell_type": "code",
   "execution_count": 7,
   "metadata": {},
   "outputs": [
    {
     "data": {
      "text/plain": [
       "Station            0\n",
       "Air Quality        0\n",
       "O3 Quality      1476\n",
       "O3 Value        1643\n",
       "NO2 Quality       55\n",
       "NO2 Value        284\n",
       "PM10 Quality    2022\n",
       "PM10 Value      2097\n",
       "Generated          0\n",
       "dtype: int64"
      ]
     },
     "execution_count": 7,
     "metadata": {},
     "output_type": "execute_result"
    }
   ],
   "source": [
    "raw_data_selected.isna().sum()"
   ]
  },
  {
   "cell_type": "markdown",
   "metadata": {},
   "source": [
    "#### Method 1: dropping all the NaN values of the entire dataset. \n",
    "\n",
    "In this case we have removed all the rows that have a \"NaN\" value there. If we perform an analysis of what we have done, we can see the total amount of data we have lost "
   ]
  },
  {
   "cell_type": "code",
   "execution_count": 8,
   "metadata": {},
   "outputs": [
    {
     "name": "stdout",
     "output_type": "stream",
     "text": [
      "Number of rows before dropping all the NaN values: 5744\n"
     ]
    }
   ],
   "source": [
    "before_rows = raw_data_selected.shape[0]\n",
    "print(f\"Number of rows before dropping all the NaN values: {before_rows}\")"
   ]
  },
  {
   "cell_type": "code",
   "execution_count": 9,
   "metadata": {},
   "outputs": [
    {
     "data": {
      "text/html": [
       "<div>\n",
       "<style scoped>\n",
       "    .dataframe tbody tr th:only-of-type {\n",
       "        vertical-align: middle;\n",
       "    }\n",
       "\n",
       "    .dataframe tbody tr th {\n",
       "        vertical-align: top;\n",
       "    }\n",
       "\n",
       "    .dataframe thead th {\n",
       "        text-align: right;\n",
       "    }\n",
       "</style>\n",
       "<table border=\"1\" class=\"dataframe\">\n",
       "  <thead>\n",
       "    <tr style=\"text-align: right;\">\n",
       "      <th></th>\n",
       "      <th>Station</th>\n",
       "      <th>Air Quality</th>\n",
       "      <th>O3 Quality</th>\n",
       "      <th>O3 Value</th>\n",
       "      <th>NO2 Quality</th>\n",
       "      <th>NO2 Value</th>\n",
       "      <th>PM10 Quality</th>\n",
       "      <th>PM10 Value</th>\n",
       "      <th>Generated</th>\n",
       "    </tr>\n",
       "  </thead>\n",
       "  <tbody>\n",
       "    <tr>\n",
       "      <th>1</th>\n",
       "      <td>Barcelona - Eixample</td>\n",
       "      <td>Moderate</td>\n",
       "      <td>Good</td>\n",
       "      <td>1.0</td>\n",
       "      <td>Moderate</td>\n",
       "      <td>113.0</td>\n",
       "      <td>Good</td>\n",
       "      <td>36.0</td>\n",
       "      <td>01/11/2018 0:00</td>\n",
       "    </tr>\n",
       "    <tr>\n",
       "      <th>5</th>\n",
       "      <td>Barcelona - Palau Reial</td>\n",
       "      <td>Good</td>\n",
       "      <td>Good</td>\n",
       "      <td>11.0</td>\n",
       "      <td>Good</td>\n",
       "      <td>57.0</td>\n",
       "      <td>Good</td>\n",
       "      <td>23.0</td>\n",
       "      <td>01/11/2018 0:00</td>\n",
       "    </tr>\n",
       "    <tr>\n",
       "      <th>7</th>\n",
       "      <td>Barcelona - Observ Fabra</td>\n",
       "      <td>Good</td>\n",
       "      <td>Good</td>\n",
       "      <td>58.0</td>\n",
       "      <td>Good</td>\n",
       "      <td>3.0</td>\n",
       "      <td>Good</td>\n",
       "      <td>25.0</td>\n",
       "      <td>01/11/2018 0:00</td>\n",
       "    </tr>\n",
       "    <tr>\n",
       "      <th>9</th>\n",
       "      <td>Barcelona - Eixample</td>\n",
       "      <td>Good</td>\n",
       "      <td>Good</td>\n",
       "      <td>6.0</td>\n",
       "      <td>Good</td>\n",
       "      <td>80.0</td>\n",
       "      <td>Good</td>\n",
       "      <td>35.0</td>\n",
       "      <td>01/11/2018 1:00</td>\n",
       "    </tr>\n",
       "    <tr>\n",
       "      <th>13</th>\n",
       "      <td>Barcelona - Palau Reial</td>\n",
       "      <td>Good</td>\n",
       "      <td>Good</td>\n",
       "      <td>27.0</td>\n",
       "      <td>Good</td>\n",
       "      <td>38.0</td>\n",
       "      <td>Good</td>\n",
       "      <td>24.0</td>\n",
       "      <td>01/11/2018 1:00</td>\n",
       "    </tr>\n",
       "  </tbody>\n",
       "</table>\n",
       "</div>"
      ],
      "text/plain": [
       "                     Station Air Quality O3 Quality  O3 Value NO2 Quality  \\\n",
       "1       Barcelona - Eixample    Moderate       Good       1.0    Moderate   \n",
       "5    Barcelona - Palau Reial        Good       Good      11.0        Good   \n",
       "7   Barcelona - Observ Fabra        Good       Good      58.0        Good   \n",
       "9       Barcelona - Eixample        Good       Good       6.0        Good   \n",
       "13   Barcelona - Palau Reial        Good       Good      27.0        Good   \n",
       "\n",
       "    NO2 Value PM10 Quality  PM10 Value        Generated  \n",
       "1       113.0         Good        36.0  01/11/2018 0:00  \n",
       "5        57.0         Good        23.0  01/11/2018 0:00  \n",
       "7         3.0         Good        25.0  01/11/2018 0:00  \n",
       "9        80.0         Good        35.0  01/11/2018 1:00  \n",
       "13       38.0         Good        24.0  01/11/2018 1:00  "
      ]
     },
     "execution_count": 9,
     "metadata": {},
     "output_type": "execute_result"
    }
   ],
   "source": [
    "clean_air_quality =  raw_data_selected.copy()\n",
    "clean_air_quality = raw_data_selected.dropna()\n",
    "clean_air_quality.head()"
   ]
  },
  {
   "cell_type": "code",
   "execution_count": 10,
   "metadata": {},
   "outputs": [
    {
     "name": "stdout",
     "output_type": "stream",
     "text": [
      "Number of rows after dropping all the NaN values: 2853\n"
     ]
    }
   ],
   "source": [
    "after_rows = clean_air_quality.shape[0]\n",
    "print (f\"Number of rows after dropping all the NaN values: {after_rows}\")"
   ]
  },
  {
   "cell_type": "code",
   "execution_count": 11,
   "metadata": {},
   "outputs": [
    {
     "name": "stdout",
     "output_type": "stream",
     "text": [
      "The percentage of data that is NaN and has been removed is 50.330779944289695\n"
     ]
    }
   ],
   "source": [
    "data_lost_perc = ((before_rows - after_rows)/before_rows)*100\n",
    "print(f\"The percentage of data that is NaN and has been removed is {data_lost_perc}\")\n"
   ]
  },
  {
   "cell_type": "markdown",
   "metadata": {},
   "source": [
    "#### Method 2: Instead of NaN removal, values interpolation "
   ]
  },
  {
   "cell_type": "code",
   "execution_count": null,
   "metadata": {},
   "outputs": [],
   "source": []
  },
  {
   "cell_type": "code",
   "execution_count": null,
   "metadata": {},
   "outputs": [],
   "source": []
  },
  {
   "cell_type": "code",
   "execution_count": null,
   "metadata": {},
   "outputs": [],
   "source": []
  },
  {
   "cell_type": "code",
   "execution_count": null,
   "metadata": {},
   "outputs": [],
   "source": []
  },
  {
   "cell_type": "markdown",
   "metadata": {},
   "source": [
    "#### Method 3: Instead of NaN removal, choose the last value of each station "
   ]
  },
  {
   "cell_type": "code",
   "execution_count": null,
   "metadata": {},
   "outputs": [],
   "source": []
  },
  {
   "cell_type": "code",
   "execution_count": 12,
   "metadata": {},
   "outputs": [
    {
     "data": {
      "text/plain": [
       "Station          object\n",
       "Air Quality      object\n",
       "O3 Quality       object\n",
       "O3 Value        float64\n",
       "NO2 Quality      object\n",
       "NO2 Value       float64\n",
       "PM10 Quality     object\n",
       "PM10 Value      float64\n",
       "Generated        object\n",
       "dtype: object"
      ]
     },
     "execution_count": 12,
     "metadata": {},
     "output_type": "execute_result"
    }
   ],
   "source": [
    "#time_index_air_quality = pd.DatetimeIndex(raw_data_selected[\"Generated\"])\n",
    "\n",
    "clean_air_quality.dtypes\n",
    "\n",
    "#raw_data_selected.head()\n"
   ]
  },
  {
   "cell_type": "markdown",
   "metadata": {},
   "source": [
    "Since the time of the Date Time column is an object, it should be converted into a DateTime object in order to be able to convert it as the index of our databases"
   ]
  },
  {
   "cell_type": "code",
   "execution_count": 13,
   "metadata": {
    "scrolled": true
   },
   "outputs": [
    {
     "name": "stderr",
     "output_type": "stream",
     "text": [
      "/home/linuxbrew/.linuxbrew/opt/python/lib/python3.7/site-packages/ipykernel_launcher.py:1: SettingWithCopyWarning: \n",
      "A value is trying to be set on a copy of a slice from a DataFrame.\n",
      "Try using .loc[row_indexer,col_indexer] = value instead\n",
      "\n",
      "See the caveats in the documentation: http://pandas.pydata.org/pandas-docs/stable/indexing.html#indexing-view-versus-copy\n",
      "  \"\"\"Entry point for launching an IPython kernel.\n"
     ]
    },
    {
     "data": {
      "text/plain": [
       "DatetimeIndex(['2018-01-11 00:00:00', '2018-01-11 00:00:00',\n",
       "               '2018-01-11 00:00:00', '2018-01-11 01:00:00',\n",
       "               '2018-01-11 01:00:00', '2018-01-11 01:00:00',\n",
       "               '2018-01-11 02:00:00', '2018-01-11 02:00:00',\n",
       "               '2018-01-11 02:00:00', '2018-01-11 03:00:00',\n",
       "               ...\n",
       "               '2018-11-30 21:00:00', '2018-11-30 21:00:00',\n",
       "               '2018-11-30 22:00:00', '2018-11-30 22:00:00',\n",
       "               '2018-11-30 22:00:00', '2018-11-30 22:00:00',\n",
       "               '2018-11-30 23:00:00', '2018-11-30 23:00:00',\n",
       "               '2018-11-30 23:00:00', '2018-11-30 23:00:00'],\n",
       "              dtype='datetime64[ns]', name='date_corrected', length=2853, freq=None)"
      ]
     },
     "execution_count": 13,
     "metadata": {},
     "output_type": "execute_result"
    }
   ],
   "source": [
    "\n",
    "\n",
    "clean_air_quality['date_corrected'] = pd.to_datetime(clean_air_quality[\"Generated\"])\n",
    "\n",
    "clean_air_quality.set_index(\"date_corrected\", inplace=True) # Inplace reassign dataset to indexed dataset. Is as if dataset_NEW=dataset_OLD\n",
    "\n",
    "clean_air_quality.index\n"
   ]
  },
  {
   "cell_type": "code",
   "execution_count": 14,
   "metadata": {},
   "outputs": [],
   "source": [
    "clean_air_quality = clean_air_quality.drop(\"Generated\", axis=1)"
   ]
  },
  {
   "cell_type": "code",
   "execution_count": 15,
   "metadata": {},
   "outputs": [
    {
     "data": {
      "text/html": [
       "<div>\n",
       "<style scoped>\n",
       "    .dataframe tbody tr th:only-of-type {\n",
       "        vertical-align: middle;\n",
       "    }\n",
       "\n",
       "    .dataframe tbody tr th {\n",
       "        vertical-align: top;\n",
       "    }\n",
       "\n",
       "    .dataframe thead th {\n",
       "        text-align: right;\n",
       "    }\n",
       "</style>\n",
       "<table border=\"1\" class=\"dataframe\">\n",
       "  <thead>\n",
       "    <tr style=\"text-align: right;\">\n",
       "      <th></th>\n",
       "      <th>Station</th>\n",
       "      <th>Air Quality</th>\n",
       "      <th>O3 Quality</th>\n",
       "      <th>O3 Value</th>\n",
       "      <th>NO2 Quality</th>\n",
       "      <th>NO2 Value</th>\n",
       "      <th>PM10 Quality</th>\n",
       "      <th>PM10 Value</th>\n",
       "    </tr>\n",
       "    <tr>\n",
       "      <th>date_corrected</th>\n",
       "      <th></th>\n",
       "      <th></th>\n",
       "      <th></th>\n",
       "      <th></th>\n",
       "      <th></th>\n",
       "      <th></th>\n",
       "      <th></th>\n",
       "      <th></th>\n",
       "    </tr>\n",
       "  </thead>\n",
       "  <tbody>\n",
       "    <tr>\n",
       "      <th>2018-01-11 00:00:00</th>\n",
       "      <td>Barcelona - Eixample</td>\n",
       "      <td>Moderate</td>\n",
       "      <td>Good</td>\n",
       "      <td>1.0</td>\n",
       "      <td>Moderate</td>\n",
       "      <td>113.0</td>\n",
       "      <td>Good</td>\n",
       "      <td>36.0</td>\n",
       "    </tr>\n",
       "    <tr>\n",
       "      <th>2018-01-11 00:00:00</th>\n",
       "      <td>Barcelona - Palau Reial</td>\n",
       "      <td>Good</td>\n",
       "      <td>Good</td>\n",
       "      <td>11.0</td>\n",
       "      <td>Good</td>\n",
       "      <td>57.0</td>\n",
       "      <td>Good</td>\n",
       "      <td>23.0</td>\n",
       "    </tr>\n",
       "    <tr>\n",
       "      <th>2018-01-11 00:00:00</th>\n",
       "      <td>Barcelona - Observ Fabra</td>\n",
       "      <td>Good</td>\n",
       "      <td>Good</td>\n",
       "      <td>58.0</td>\n",
       "      <td>Good</td>\n",
       "      <td>3.0</td>\n",
       "      <td>Good</td>\n",
       "      <td>25.0</td>\n",
       "    </tr>\n",
       "    <tr>\n",
       "      <th>2018-01-11 01:00:00</th>\n",
       "      <td>Barcelona - Eixample</td>\n",
       "      <td>Good</td>\n",
       "      <td>Good</td>\n",
       "      <td>6.0</td>\n",
       "      <td>Good</td>\n",
       "      <td>80.0</td>\n",
       "      <td>Good</td>\n",
       "      <td>35.0</td>\n",
       "    </tr>\n",
       "    <tr>\n",
       "      <th>2018-01-11 01:00:00</th>\n",
       "      <td>Barcelona - Palau Reial</td>\n",
       "      <td>Good</td>\n",
       "      <td>Good</td>\n",
       "      <td>27.0</td>\n",
       "      <td>Good</td>\n",
       "      <td>38.0</td>\n",
       "      <td>Good</td>\n",
       "      <td>24.0</td>\n",
       "    </tr>\n",
       "  </tbody>\n",
       "</table>\n",
       "</div>"
      ],
      "text/plain": [
       "                                      Station Air Quality O3 Quality  \\\n",
       "date_corrected                                                         \n",
       "2018-01-11 00:00:00      Barcelona - Eixample    Moderate       Good   \n",
       "2018-01-11 00:00:00   Barcelona - Palau Reial        Good       Good   \n",
       "2018-01-11 00:00:00  Barcelona - Observ Fabra        Good       Good   \n",
       "2018-01-11 01:00:00      Barcelona - Eixample        Good       Good   \n",
       "2018-01-11 01:00:00   Barcelona - Palau Reial        Good       Good   \n",
       "\n",
       "                     O3 Value NO2 Quality  NO2 Value PM10 Quality  PM10 Value  \n",
       "date_corrected                                                                 \n",
       "2018-01-11 00:00:00       1.0    Moderate      113.0         Good        36.0  \n",
       "2018-01-11 00:00:00      11.0        Good       57.0         Good        23.0  \n",
       "2018-01-11 00:00:00      58.0        Good        3.0         Good        25.0  \n",
       "2018-01-11 01:00:00       6.0        Good       80.0         Good        35.0  \n",
       "2018-01-11 01:00:00      27.0        Good       38.0         Good        24.0  "
      ]
     },
     "execution_count": 15,
     "metadata": {},
     "output_type": "execute_result"
    }
   ],
   "source": [
    "clean_air_quality.head()"
   ]
  },
  {
   "cell_type": "markdown",
   "metadata": {},
   "source": [
    "Data description in Barcelona in November 2018"
   ]
  },
  {
   "cell_type": "code",
   "execution_count": 16,
   "metadata": {},
   "outputs": [
    {
     "data": {
      "text/html": [
       "<div>\n",
       "<style scoped>\n",
       "    .dataframe tbody tr th:only-of-type {\n",
       "        vertical-align: middle;\n",
       "    }\n",
       "\n",
       "    .dataframe tbody tr th {\n",
       "        vertical-align: top;\n",
       "    }\n",
       "\n",
       "    .dataframe thead th {\n",
       "        text-align: right;\n",
       "    }\n",
       "</style>\n",
       "<table border=\"1\" class=\"dataframe\">\n",
       "  <thead>\n",
       "    <tr style=\"text-align: right;\">\n",
       "      <th></th>\n",
       "      <th>O3 Value</th>\n",
       "      <th>NO2 Value</th>\n",
       "      <th>PM10 Value</th>\n",
       "    </tr>\n",
       "  </thead>\n",
       "  <tbody>\n",
       "    <tr>\n",
       "      <th>count</th>\n",
       "      <td>2853.000000</td>\n",
       "      <td>2853.000000</td>\n",
       "      <td>2853.000000</td>\n",
       "    </tr>\n",
       "    <tr>\n",
       "      <th>mean</th>\n",
       "      <td>36.539432</td>\n",
       "      <td>32.680687</td>\n",
       "      <td>15.599369</td>\n",
       "    </tr>\n",
       "    <tr>\n",
       "      <th>std</th>\n",
       "      <td>23.707684</td>\n",
       "      <td>24.343297</td>\n",
       "      <td>7.820458</td>\n",
       "    </tr>\n",
       "    <tr>\n",
       "      <th>min</th>\n",
       "      <td>1.000000</td>\n",
       "      <td>1.000000</td>\n",
       "      <td>2.000000</td>\n",
       "    </tr>\n",
       "    <tr>\n",
       "      <th>25%</th>\n",
       "      <td>16.000000</td>\n",
       "      <td>12.000000</td>\n",
       "      <td>10.000000</td>\n",
       "    </tr>\n",
       "    <tr>\n",
       "      <th>50%</th>\n",
       "      <td>37.000000</td>\n",
       "      <td>26.000000</td>\n",
       "      <td>14.000000</td>\n",
       "    </tr>\n",
       "    <tr>\n",
       "      <th>75%</th>\n",
       "      <td>56.000000</td>\n",
       "      <td>50.000000</td>\n",
       "      <td>20.000000</td>\n",
       "    </tr>\n",
       "    <tr>\n",
       "      <th>max</th>\n",
       "      <td>100.000000</td>\n",
       "      <td>117.000000</td>\n",
       "      <td>44.000000</td>\n",
       "    </tr>\n",
       "  </tbody>\n",
       "</table>\n",
       "</div>"
      ],
      "text/plain": [
       "          O3 Value    NO2 Value   PM10 Value\n",
       "count  2853.000000  2853.000000  2853.000000\n",
       "mean     36.539432    32.680687    15.599369\n",
       "std      23.707684    24.343297     7.820458\n",
       "min       1.000000     1.000000     2.000000\n",
       "25%      16.000000    12.000000    10.000000\n",
       "50%      37.000000    26.000000    14.000000\n",
       "75%      56.000000    50.000000    20.000000\n",
       "max     100.000000   117.000000    44.000000"
      ]
     },
     "execution_count": 16,
     "metadata": {},
     "output_type": "execute_result"
    }
   ],
   "source": [
    "clean_air_quality.describe()"
   ]
  },
  {
   "cell_type": "markdown",
   "metadata": {},
   "source": [
    "### Data splitting per station"
   ]
  },
  {
   "cell_type": "markdown",
   "metadata": {},
   "source": [
    "First of all, we need to see which are the columns we have in our cleaned dataset to see what are the elements that we will split per station"
   ]
  },
  {
   "cell_type": "code",
   "execution_count": 17,
   "metadata": {},
   "outputs": [
    {
     "name": "stdout",
     "output_type": "stream",
     "text": [
      "['Station', 'Air Quality', 'O3 Quality', 'O3 Value', 'NO2 Quality', 'NO2 Value', 'PM10 Quality', 'PM10 Value']\n"
     ]
    }
   ],
   "source": [
    "print(clean_air_quality.columns.to_list())"
   ]
  },
  {
   "cell_type": "markdown",
   "metadata": {},
   "source": [
    "Stations we have in Barcelona: \n",
    "1. Barcelona - Ciutadella \n",
    "2. Barcelona - Eixample\n",
    "3. Barcelona - Gràcia \n",
    "4. Barcelona - Palau Reial\n",
    "5. Barcelona - Poblenou\n",
    "6. Barcelona - Sants\n",
    "7. Barcelona - Vall Hebron\n",
    "8. Barcelona - Vallvidrera, el Tibidabo i les Planes"
   ]
  },
  {
   "cell_type": "markdown",
   "metadata": {},
   "source": [
    "### BCN- Ciutadella "
   ]
  },
  {
   "cell_type": "code",
   "execution_count": 18,
   "metadata": {},
   "outputs": [
    {
     "data": {
      "text/html": [
       "<div>\n",
       "<style scoped>\n",
       "    .dataframe tbody tr th:only-of-type {\n",
       "        vertical-align: middle;\n",
       "    }\n",
       "\n",
       "    .dataframe tbody tr th {\n",
       "        vertical-align: top;\n",
       "    }\n",
       "\n",
       "    .dataframe thead th {\n",
       "        text-align: right;\n",
       "    }\n",
       "</style>\n",
       "<table border=\"1\" class=\"dataframe\">\n",
       "  <thead>\n",
       "    <tr style=\"text-align: right;\">\n",
       "      <th></th>\n",
       "      <th>Station</th>\n",
       "      <th>Air Quality</th>\n",
       "      <th>O3 Quality</th>\n",
       "      <th>O3 Value</th>\n",
       "      <th>NO2 Quality</th>\n",
       "      <th>NO2 Value</th>\n",
       "      <th>PM10 Quality</th>\n",
       "      <th>PM10 Value</th>\n",
       "    </tr>\n",
       "    <tr>\n",
       "      <th>date_corrected</th>\n",
       "      <th></th>\n",
       "      <th></th>\n",
       "      <th></th>\n",
       "      <th></th>\n",
       "      <th></th>\n",
       "      <th></th>\n",
       "      <th></th>\n",
       "      <th></th>\n",
       "    </tr>\n",
       "  </thead>\n",
       "  <tbody>\n",
       "  </tbody>\n",
       "</table>\n",
       "</div>"
      ],
      "text/plain": [
       "Empty DataFrame\n",
       "Columns: [Station, Air Quality, O3 Quality, O3 Value, NO2 Quality, NO2 Value, PM10 Quality, PM10 Value]\n",
       "Index: []"
      ]
     },
     "execution_count": 18,
     "metadata": {},
     "output_type": "execute_result"
    }
   ],
   "source": [
    "BCN_Ciutadella = clean_air_quality[clean_air_quality[\"Station\"]==\"Barcelona - Ciutadella\"]\n",
    "\n",
    "BCN_Ciutadella.head()"
   ]
  },
  {
   "cell_type": "markdown",
   "metadata": {},
   "source": [
    "### BCN-Eixample"
   ]
  },
  {
   "cell_type": "code",
   "execution_count": 19,
   "metadata": {},
   "outputs": [
    {
     "data": {
      "text/html": [
       "<div>\n",
       "<style scoped>\n",
       "    .dataframe tbody tr th:only-of-type {\n",
       "        vertical-align: middle;\n",
       "    }\n",
       "\n",
       "    .dataframe tbody tr th {\n",
       "        vertical-align: top;\n",
       "    }\n",
       "\n",
       "    .dataframe thead th {\n",
       "        text-align: right;\n",
       "    }\n",
       "</style>\n",
       "<table border=\"1\" class=\"dataframe\">\n",
       "  <thead>\n",
       "    <tr style=\"text-align: right;\">\n",
       "      <th></th>\n",
       "      <th>Station</th>\n",
       "      <th>Air Quality</th>\n",
       "      <th>O3 Quality</th>\n",
       "      <th>O3 Value</th>\n",
       "      <th>NO2 Quality</th>\n",
       "      <th>NO2 Value</th>\n",
       "      <th>PM10 Quality</th>\n",
       "      <th>PM10 Value</th>\n",
       "    </tr>\n",
       "    <tr>\n",
       "      <th>date_corrected</th>\n",
       "      <th></th>\n",
       "      <th></th>\n",
       "      <th></th>\n",
       "      <th></th>\n",
       "      <th></th>\n",
       "      <th></th>\n",
       "      <th></th>\n",
       "      <th></th>\n",
       "    </tr>\n",
       "  </thead>\n",
       "  <tbody>\n",
       "    <tr>\n",
       "      <th>2018-01-11 00:00:00</th>\n",
       "      <td>Barcelona - Eixample</td>\n",
       "      <td>Moderate</td>\n",
       "      <td>Good</td>\n",
       "      <td>1.0</td>\n",
       "      <td>Moderate</td>\n",
       "      <td>113.0</td>\n",
       "      <td>Good</td>\n",
       "      <td>36.0</td>\n",
       "    </tr>\n",
       "    <tr>\n",
       "      <th>2018-01-11 01:00:00</th>\n",
       "      <td>Barcelona - Eixample</td>\n",
       "      <td>Good</td>\n",
       "      <td>Good</td>\n",
       "      <td>6.0</td>\n",
       "      <td>Good</td>\n",
       "      <td>80.0</td>\n",
       "      <td>Good</td>\n",
       "      <td>35.0</td>\n",
       "    </tr>\n",
       "    <tr>\n",
       "      <th>2018-01-11 02:00:00</th>\n",
       "      <td>Barcelona - Eixample</td>\n",
       "      <td>Good</td>\n",
       "      <td>Good</td>\n",
       "      <td>14.0</td>\n",
       "      <td>Good</td>\n",
       "      <td>64.0</td>\n",
       "      <td>Good</td>\n",
       "      <td>34.0</td>\n",
       "    </tr>\n",
       "    <tr>\n",
       "      <th>2018-01-11 03:00:00</th>\n",
       "      <td>Barcelona - Eixample</td>\n",
       "      <td>Good</td>\n",
       "      <td>Good</td>\n",
       "      <td>32.0</td>\n",
       "      <td>Good</td>\n",
       "      <td>44.0</td>\n",
       "      <td>Good</td>\n",
       "      <td>35.0</td>\n",
       "    </tr>\n",
       "    <tr>\n",
       "      <th>2018-01-11 04:00:00</th>\n",
       "      <td>Barcelona - Eixample</td>\n",
       "      <td>Good</td>\n",
       "      <td>Good</td>\n",
       "      <td>43.0</td>\n",
       "      <td>Good</td>\n",
       "      <td>34.0</td>\n",
       "      <td>Good</td>\n",
       "      <td>34.0</td>\n",
       "    </tr>\n",
       "  </tbody>\n",
       "</table>\n",
       "</div>"
      ],
      "text/plain": [
       "                                  Station Air Quality O3 Quality  O3 Value  \\\n",
       "date_corrected                                                               \n",
       "2018-01-11 00:00:00  Barcelona - Eixample    Moderate       Good       1.0   \n",
       "2018-01-11 01:00:00  Barcelona - Eixample        Good       Good       6.0   \n",
       "2018-01-11 02:00:00  Barcelona - Eixample        Good       Good      14.0   \n",
       "2018-01-11 03:00:00  Barcelona - Eixample        Good       Good      32.0   \n",
       "2018-01-11 04:00:00  Barcelona - Eixample        Good       Good      43.0   \n",
       "\n",
       "                    NO2 Quality  NO2 Value PM10 Quality  PM10 Value  \n",
       "date_corrected                                                       \n",
       "2018-01-11 00:00:00    Moderate      113.0         Good        36.0  \n",
       "2018-01-11 01:00:00        Good       80.0         Good        35.0  \n",
       "2018-01-11 02:00:00        Good       64.0         Good        34.0  \n",
       "2018-01-11 03:00:00        Good       44.0         Good        35.0  \n",
       "2018-01-11 04:00:00        Good       34.0         Good        34.0  "
      ]
     },
     "execution_count": 19,
     "metadata": {},
     "output_type": "execute_result"
    }
   ],
   "source": [
    "#BCN_Sants = clean_air_quality[clean_air_quality[\"Station\"] == \"Barcelona - Sants\"]\n",
    "\n",
    "#BCN_Sants\n",
    "\n",
    "#BCN_Eixample = \n",
    "\n",
    "#clean_air_quality.head()\n",
    "\n",
    "BCN_Eixample = clean_air_quality[clean_air_quality[\"Station\"]==\"Barcelona - Eixample\"]\n",
    "\n",
    "BCN_Eixample.head()"
   ]
  },
  {
   "cell_type": "markdown",
   "metadata": {},
   "source": [
    "## 2. Database connection"
   ]
  },
  {
   "cell_type": "code",
   "execution_count": 20,
   "metadata": {},
   "outputs": [],
   "source": [
    "## Import libraries\n",
    "\n",
    "from sqlalchemy import create_engine\n"
   ]
  },
  {
   "cell_type": "code",
   "execution_count": 21,
   "metadata": {},
   "outputs": [],
   "source": [
    "driver = 'mysql+pymysql:'\n",
    "user = 'owner'\n",
    "password = 'ir0n-h4ck'\n",
    "ip = '104.197.101.244'\n",
    "database = 'project-week-2-barcelona'\n"
   ]
  },
  {
   "cell_type": "code",
   "execution_count": 22,
   "metadata": {},
   "outputs": [],
   "source": [
    "connection_string = f'{driver}//{user}:{password}@{ip}/{database}'"
   ]
  },
  {
   "cell_type": "code",
   "execution_count": 23,
   "metadata": {},
   "outputs": [],
   "source": [
    "engine = create_engine(connection_string)"
   ]
  },
  {
   "cell_type": "code",
   "execution_count": 24,
   "metadata": {},
   "outputs": [],
   "source": [
    "#query = \"\"\"\n",
    " #       SELECT * FROM authors\n",
    "#\"\"\"\n",
    "\n",
    "#query = \"\"\"\n",
    "#        CREATE TABLE kerim_table\n",
    "#        SELECT * FROM authors\n",
    "#\"\"\"\n",
    "#df_db = pd.read_sql(query, engine)"
   ]
  },
  {
   "cell_type": "code",
   "execution_count": 25,
   "metadata": {},
   "outputs": [],
   "source": [
    "#df_db = pd.read_sql(query, engine)\n",
    "\n",
    "#print(query)\n",
    "\n",
    "\n"
   ]
  }
 ],
 "metadata": {
  "kernelspec": {
   "display_name": "Python 3",
   "language": "python",
   "name": "python3"
  },
  "language_info": {
   "codemirror_mode": {
    "name": "ipython",
    "version": 3
   },
   "file_extension": ".py",
   "mimetype": "text/x-python",
   "name": "python",
   "nbconvert_exporter": "python",
   "pygments_lexer": "ipython3",
   "version": "3.7.3"
  }
 },
 "nbformat": 4,
 "nbformat_minor": 2
}
