{
 "cells": [
  {
   "cell_type": "code",
   "execution_count": 6,
   "metadata": {},
   "outputs": [],
   "source": [
    "## import libraries\n",
    "\n",
    "import pandas as pd \n",
    "import sqlalchemy \n",
    "import datetime "
   ]
  },
  {
   "cell_type": "code",
   "execution_count": 7,
   "metadata": {},
   "outputs": [],
   "source": [
    "raw_data = pd.read_csv('air_quality_Nov2017.csv')\n",
    "station_links = pd.read_csv('air_stations_Nov2017.csv')"
   ]
  },
  {
   "cell_type": "code",
   "execution_count": 28,
   "metadata": {},
   "outputs": [
    {
     "data": {
      "text/html": [
       "<div>\n",
       "<style scoped>\n",
       "    .dataframe tbody tr th:only-of-type {\n",
       "        vertical-align: middle;\n",
       "    }\n",
       "\n",
       "    .dataframe tbody tr th {\n",
       "        vertical-align: top;\n",
       "    }\n",
       "\n",
       "    .dataframe thead th {\n",
       "        text-align: right;\n",
       "    }\n",
       "</style>\n",
       "<table border=\"1\" class=\"dataframe\">\n",
       "  <thead>\n",
       "    <tr style=\"text-align: right;\">\n",
       "      <th></th>\n",
       "      <th>Station</th>\n",
       "      <th>Air Quality</th>\n",
       "      <th>Longitude</th>\n",
       "      <th>Latitude</th>\n",
       "      <th>O3 Hour</th>\n",
       "      <th>O3 Quality</th>\n",
       "      <th>O3 Value</th>\n",
       "      <th>NO2 Hour</th>\n",
       "      <th>NO2 Quality</th>\n",
       "      <th>NO2 Value</th>\n",
       "      <th>PM10 Hour</th>\n",
       "      <th>PM10 Quality</th>\n",
       "      <th>PM10 Value</th>\n",
       "      <th>Generated</th>\n",
       "      <th>Date Time</th>\n",
       "    </tr>\n",
       "  </thead>\n",
       "  <tbody>\n",
       "    <tr>\n",
       "      <th>0</th>\n",
       "      <td>Barcelona - Sants</td>\n",
       "      <td>Good</td>\n",
       "      <td>2.1331</td>\n",
       "      <td>41.3788</td>\n",
       "      <td>NaN</td>\n",
       "      <td>NaN</td>\n",
       "      <td>NaN</td>\n",
       "      <td>0h</td>\n",
       "      <td>Good</td>\n",
       "      <td>84.0</td>\n",
       "      <td>NaN</td>\n",
       "      <td>NaN</td>\n",
       "      <td>NaN</td>\n",
       "      <td>01/11/2018 0:00</td>\n",
       "      <td>1541027104</td>\n",
       "    </tr>\n",
       "    <tr>\n",
       "      <th>1</th>\n",
       "      <td>Barcelona - Eixample</td>\n",
       "      <td>Moderate</td>\n",
       "      <td>2.1538</td>\n",
       "      <td>41.3853</td>\n",
       "      <td>0h</td>\n",
       "      <td>Good</td>\n",
       "      <td>1.0</td>\n",
       "      <td>0h</td>\n",
       "      <td>Moderate</td>\n",
       "      <td>113.0</td>\n",
       "      <td>0h</td>\n",
       "      <td>Good</td>\n",
       "      <td>36.0</td>\n",
       "      <td>01/11/2018 0:00</td>\n",
       "      <td>1541027104</td>\n",
       "    </tr>\n",
       "    <tr>\n",
       "      <th>2</th>\n",
       "      <td>Barcelona - Gràcia</td>\n",
       "      <td>Good</td>\n",
       "      <td>2.1534</td>\n",
       "      <td>41.3987</td>\n",
       "      <td>0h</td>\n",
       "      <td>Good</td>\n",
       "      <td>10.0</td>\n",
       "      <td>0h</td>\n",
       "      <td>Good</td>\n",
       "      <td>73.0</td>\n",
       "      <td>NaN</td>\n",
       "      <td>NaN</td>\n",
       "      <td>NaN</td>\n",
       "      <td>01/11/2018 0:00</td>\n",
       "      <td>1541027104</td>\n",
       "    </tr>\n",
       "    <tr>\n",
       "      <th>3</th>\n",
       "      <td>Barcelona - Ciutadella</td>\n",
       "      <td>Good</td>\n",
       "      <td>2.1874</td>\n",
       "      <td>41.3864</td>\n",
       "      <td>0h</td>\n",
       "      <td>Good</td>\n",
       "      <td>2.0</td>\n",
       "      <td>0h</td>\n",
       "      <td>Good</td>\n",
       "      <td>86.0</td>\n",
       "      <td>NaN</td>\n",
       "      <td>NaN</td>\n",
       "      <td>NaN</td>\n",
       "      <td>01/11/2018 0:00</td>\n",
       "      <td>1541027104</td>\n",
       "    </tr>\n",
       "    <tr>\n",
       "      <th>4</th>\n",
       "      <td>Barcelona - Vall Hebron</td>\n",
       "      <td>Good</td>\n",
       "      <td>2.1480</td>\n",
       "      <td>41.4261</td>\n",
       "      <td>0h</td>\n",
       "      <td>Good</td>\n",
       "      <td>7.0</td>\n",
       "      <td>0h</td>\n",
       "      <td>Good</td>\n",
       "      <td>69.0</td>\n",
       "      <td>NaN</td>\n",
       "      <td>NaN</td>\n",
       "      <td>NaN</td>\n",
       "      <td>01/11/2018 0:00</td>\n",
       "      <td>1541027104</td>\n",
       "    </tr>\n",
       "  </tbody>\n",
       "</table>\n",
       "</div>"
      ],
      "text/plain": [
       "                   Station Air Quality  Longitude  Latitude O3 Hour  \\\n",
       "0        Barcelona - Sants        Good     2.1331   41.3788     NaN   \n",
       "1     Barcelona - Eixample    Moderate     2.1538   41.3853      0h   \n",
       "2       Barcelona - Gràcia        Good     2.1534   41.3987      0h   \n",
       "3   Barcelona - Ciutadella        Good     2.1874   41.3864      0h   \n",
       "4  Barcelona - Vall Hebron        Good     2.1480   41.4261      0h   \n",
       "\n",
       "  O3 Quality  O3 Value NO2 Hour NO2 Quality  NO2 Value PM10 Hour PM10 Quality  \\\n",
       "0        NaN       NaN       0h        Good       84.0       NaN          NaN   \n",
       "1       Good       1.0       0h    Moderate      113.0        0h         Good   \n",
       "2       Good      10.0       0h        Good       73.0       NaN          NaN   \n",
       "3       Good       2.0       0h        Good       86.0       NaN          NaN   \n",
       "4       Good       7.0       0h        Good       69.0       NaN          NaN   \n",
       "\n",
       "   PM10 Value        Generated   Date Time  \n",
       "0         NaN  01/11/2018 0:00  1541027104  \n",
       "1        36.0  01/11/2018 0:00  1541027104  \n",
       "2         NaN  01/11/2018 0:00  1541027104  \n",
       "3         NaN  01/11/2018 0:00  1541027104  \n",
       "4         NaN  01/11/2018 0:00  1541027104  "
      ]
     },
     "execution_count": 28,
     "metadata": {},
     "output_type": "execute_result"
    }
   ],
   "source": [
    "raw_data.head()"
   ]
  },
  {
   "cell_type": "markdown",
   "metadata": {},
   "source": [
    "We remove the columns that are not needed for our analysis. In this case, the columns that are needed are: \n",
    "- Station\n",
    "- Air Quality \n",
    "- O3 Quality\n",
    "- 03 Value\n",
    "- NO2 Quality\n",
    "- NO2 Value\n",
    "- PM10 Quality\n",
    "- PM10 Value \n",
    "- Generated \n",
    "- Date Time "
   ]
  },
  {
   "cell_type": "code",
   "execution_count": 11,
   "metadata": {},
   "outputs": [
    {
     "data": {
      "text/plain": [
       "['Station',\n",
       " 'Air Quality',\n",
       " 'Longitude',\n",
       " 'Latitude',\n",
       " 'O3 Hour',\n",
       " 'O3 Quality',\n",
       " 'O3 Value',\n",
       " 'NO2 Hour',\n",
       " 'NO2 Quality',\n",
       " 'NO2 Value',\n",
       " 'PM10 Hour',\n",
       " 'PM10 Quality',\n",
       " 'PM10 Value',\n",
       " 'Generated',\n",
       " 'Date Time']"
      ]
     },
     "execution_count": 11,
     "metadata": {},
     "output_type": "execute_result"
    }
   ],
   "source": [
    "raw_data.columns.tolist()"
   ]
  },
  {
   "cell_type": "code",
   "execution_count": 13,
   "metadata": {},
   "outputs": [],
   "source": [
    "raw_data_selected = raw_data[['Station', 'Air Quality', 'O3 Quality', 'O3 Value', 'NO2 Quality', 'NO2 Value', 'PM10 Quality', 'PM10 Value', 'Generated', 'Date Time']]"
   ]
  },
  {
   "cell_type": "markdown",
   "metadata": {},
   "source": [
    "### Missing values\n",
    "#### Method 1: dropping all the NaN values of the entire dataset. "
   ]
  },
  {
   "cell_type": "code",
   "execution_count": 18,
   "metadata": {},
   "outputs": [
    {
     "data": {
      "text/plain": [
       "Station            0\n",
       "Air Quality        0\n",
       "O3 Quality      1476\n",
       "O3 Value        1643\n",
       "NO2 Quality       55\n",
       "NO2 Value        284\n",
       "PM10 Quality    2022\n",
       "PM10 Value      2097\n",
       "Generated          0\n",
       "Date Time          0\n",
       "dtype: int64"
      ]
     },
     "execution_count": 18,
     "metadata": {},
     "output_type": "execute_result"
    }
   ],
   "source": [
    "raw_data_selected.isna().sum()"
   ]
  },
  {
   "cell_type": "markdown",
   "metadata": {},
   "source": [
    "In this case we have removed all the rows that have a \"NaN\" value there. If we perform an analysis of what we have done, we can see the total amount of data we have lost "
   ]
  },
  {
   "cell_type": "code",
   "execution_count": 33,
   "metadata": {},
   "outputs": [
    {
     "data": {
      "text/plain": [
       "5744"
      ]
     },
     "execution_count": 33,
     "metadata": {},
     "output_type": "execute_result"
    }
   ],
   "source": [
    "before_rows = raw_data_selected.shape[0]\n",
    "before_rows"
   ]
  },
  {
   "cell_type": "code",
   "execution_count": 34,
   "metadata": {},
   "outputs": [
    {
     "data": {
      "text/html": [
       "<div>\n",
       "<style scoped>\n",
       "    .dataframe tbody tr th:only-of-type {\n",
       "        vertical-align: middle;\n",
       "    }\n",
       "\n",
       "    .dataframe tbody tr th {\n",
       "        vertical-align: top;\n",
       "    }\n",
       "\n",
       "    .dataframe thead th {\n",
       "        text-align: right;\n",
       "    }\n",
       "</style>\n",
       "<table border=\"1\" class=\"dataframe\">\n",
       "  <thead>\n",
       "    <tr style=\"text-align: right;\">\n",
       "      <th></th>\n",
       "      <th>Station</th>\n",
       "      <th>Air Quality</th>\n",
       "      <th>O3 Quality</th>\n",
       "      <th>O3 Value</th>\n",
       "      <th>NO2 Quality</th>\n",
       "      <th>NO2 Value</th>\n",
       "      <th>PM10 Quality</th>\n",
       "      <th>PM10 Value</th>\n",
       "      <th>Generated</th>\n",
       "      <th>Date Time</th>\n",
       "    </tr>\n",
       "  </thead>\n",
       "  <tbody>\n",
       "    <tr>\n",
       "      <th>1</th>\n",
       "      <td>Barcelona - Eixample</td>\n",
       "      <td>Moderate</td>\n",
       "      <td>Good</td>\n",
       "      <td>1.0</td>\n",
       "      <td>Moderate</td>\n",
       "      <td>113.0</td>\n",
       "      <td>Good</td>\n",
       "      <td>36.0</td>\n",
       "      <td>01/11/2018 0:00</td>\n",
       "      <td>1541027104</td>\n",
       "    </tr>\n",
       "    <tr>\n",
       "      <th>5</th>\n",
       "      <td>Barcelona - Palau Reial</td>\n",
       "      <td>Good</td>\n",
       "      <td>Good</td>\n",
       "      <td>11.0</td>\n",
       "      <td>Good</td>\n",
       "      <td>57.0</td>\n",
       "      <td>Good</td>\n",
       "      <td>23.0</td>\n",
       "      <td>01/11/2018 0:00</td>\n",
       "      <td>1541027104</td>\n",
       "    </tr>\n",
       "    <tr>\n",
       "      <th>7</th>\n",
       "      <td>Barcelona - Observ Fabra</td>\n",
       "      <td>Good</td>\n",
       "      <td>Good</td>\n",
       "      <td>58.0</td>\n",
       "      <td>Good</td>\n",
       "      <td>3.0</td>\n",
       "      <td>Good</td>\n",
       "      <td>25.0</td>\n",
       "      <td>01/11/2018 0:00</td>\n",
       "      <td>1541027104</td>\n",
       "    </tr>\n",
       "    <tr>\n",
       "      <th>9</th>\n",
       "      <td>Barcelona - Eixample</td>\n",
       "      <td>Good</td>\n",
       "      <td>Good</td>\n",
       "      <td>6.0</td>\n",
       "      <td>Good</td>\n",
       "      <td>80.0</td>\n",
       "      <td>Good</td>\n",
       "      <td>35.0</td>\n",
       "      <td>01/11/2018 1:00</td>\n",
       "      <td>1541030725</td>\n",
       "    </tr>\n",
       "    <tr>\n",
       "      <th>13</th>\n",
       "      <td>Barcelona - Palau Reial</td>\n",
       "      <td>Good</td>\n",
       "      <td>Good</td>\n",
       "      <td>27.0</td>\n",
       "      <td>Good</td>\n",
       "      <td>38.0</td>\n",
       "      <td>Good</td>\n",
       "      <td>24.0</td>\n",
       "      <td>01/11/2018 1:00</td>\n",
       "      <td>1541030725</td>\n",
       "    </tr>\n",
       "  </tbody>\n",
       "</table>\n",
       "</div>"
      ],
      "text/plain": [
       "                     Station Air Quality O3 Quality  O3 Value NO2 Quality  \\\n",
       "1       Barcelona - Eixample    Moderate       Good       1.0    Moderate   \n",
       "5    Barcelona - Palau Reial        Good       Good      11.0        Good   \n",
       "7   Barcelona - Observ Fabra        Good       Good      58.0        Good   \n",
       "9       Barcelona - Eixample        Good       Good       6.0        Good   \n",
       "13   Barcelona - Palau Reial        Good       Good      27.0        Good   \n",
       "\n",
       "    NO2 Value PM10 Quality  PM10 Value        Generated   Date Time  \n",
       "1       113.0         Good        36.0  01/11/2018 0:00  1541027104  \n",
       "5        57.0         Good        23.0  01/11/2018 0:00  1541027104  \n",
       "7         3.0         Good        25.0  01/11/2018 0:00  1541027104  \n",
       "9        80.0         Good        35.0  01/11/2018 1:00  1541030725  \n",
       "13       38.0         Good        24.0  01/11/2018 1:00  1541030725  "
      ]
     },
     "execution_count": 34,
     "metadata": {},
     "output_type": "execute_result"
    }
   ],
   "source": [
    "clean_air_quality = raw_data_selected.dropna()\n",
    "clean_air_quality.head()"
   ]
  },
  {
   "cell_type": "code",
   "execution_count": 35,
   "metadata": {},
   "outputs": [],
   "source": [
    "after_na_rows = clean_air_quality.shape[0]"
   ]
  },
  {
   "cell_type": "code",
   "execution_count": 40,
   "metadata": {},
   "outputs": [
    {
     "name": "stdout",
     "output_type": "stream",
     "text": [
      "The percentage of data that is NaN and has been removed is 50.330779944289695\n"
     ]
    }
   ],
   "source": [
    "data_lost_perc = ((before_rows - after_na_rows)/before_rows)*100\n",
    "print(f\"The percentage of data that is NaN and has been removed is {data_lost_perc}\")\n"
   ]
  },
  {
   "cell_type": "markdown",
   "metadata": {},
   "source": [
    "#### Method 2: Instead of NaN removal, values interpolation "
   ]
  },
  {
   "cell_type": "code",
   "execution_count": null,
   "metadata": {},
   "outputs": [],
   "source": []
  },
  {
   "cell_type": "code",
   "execution_count": null,
   "metadata": {},
   "outputs": [],
   "source": []
  },
  {
   "cell_type": "code",
   "execution_count": null,
   "metadata": {},
   "outputs": [],
   "source": []
  },
  {
   "cell_type": "markdown",
   "metadata": {},
   "source": [
    "### Data splitting per station"
   ]
  },
  {
   "cell_type": "code",
   "execution_count": null,
   "metadata": {},
   "outputs": [],
   "source": [
    "BCN_Sants = "
   ]
  },
  {
   "cell_type": "markdown",
   "metadata": {},
   "source": []
  },
  {
   "cell_type": "code",
   "execution_count": 29,
   "metadata": {},
   "outputs": [
    {
     "data": {
      "text/html": [
       "<div>\n",
       "<style scoped>\n",
       "    .dataframe tbody tr th:only-of-type {\n",
       "        vertical-align: middle;\n",
       "    }\n",
       "\n",
       "    .dataframe tbody tr th {\n",
       "        vertical-align: top;\n",
       "    }\n",
       "\n",
       "    .dataframe thead th {\n",
       "        text-align: right;\n",
       "    }\n",
       "</style>\n",
       "<table border=\"1\" class=\"dataframe\">\n",
       "  <thead>\n",
       "    <tr style=\"text-align: right;\">\n",
       "      <th></th>\n",
       "      <th>Station</th>\n",
       "      <th>Air Quality</th>\n",
       "      <th>O3 Quality</th>\n",
       "      <th>O3 Value</th>\n",
       "      <th>NO2 Quality</th>\n",
       "      <th>NO2 Value</th>\n",
       "      <th>PM10 Quality</th>\n",
       "      <th>PM10 Value</th>\n",
       "      <th>Generated</th>\n",
       "      <th>Date Time</th>\n",
       "    </tr>\n",
       "  </thead>\n",
       "  <tbody>\n",
       "    <tr>\n",
       "      <th>0</th>\n",
       "      <td>Barcelona - Sants</td>\n",
       "      <td>Good</td>\n",
       "      <td>NaN</td>\n",
       "      <td>NaN</td>\n",
       "      <td>Good</td>\n",
       "      <td>84.0</td>\n",
       "      <td>NaN</td>\n",
       "      <td>NaN</td>\n",
       "      <td>01/11/2018 0:00</td>\n",
       "      <td>1541027104</td>\n",
       "    </tr>\n",
       "    <tr>\n",
       "      <th>1</th>\n",
       "      <td>Barcelona - Eixample</td>\n",
       "      <td>Moderate</td>\n",
       "      <td>Good</td>\n",
       "      <td>1.0</td>\n",
       "      <td>Moderate</td>\n",
       "      <td>113.0</td>\n",
       "      <td>Good</td>\n",
       "      <td>36.0</td>\n",
       "      <td>01/11/2018 0:00</td>\n",
       "      <td>1541027104</td>\n",
       "    </tr>\n",
       "    <tr>\n",
       "      <th>2</th>\n",
       "      <td>Barcelona - Gràcia</td>\n",
       "      <td>Good</td>\n",
       "      <td>Good</td>\n",
       "      <td>10.0</td>\n",
       "      <td>Good</td>\n",
       "      <td>73.0</td>\n",
       "      <td>NaN</td>\n",
       "      <td>NaN</td>\n",
       "      <td>01/11/2018 0:00</td>\n",
       "      <td>1541027104</td>\n",
       "    </tr>\n",
       "    <tr>\n",
       "      <th>3</th>\n",
       "      <td>Barcelona - Ciutadella</td>\n",
       "      <td>Good</td>\n",
       "      <td>Good</td>\n",
       "      <td>2.0</td>\n",
       "      <td>Good</td>\n",
       "      <td>86.0</td>\n",
       "      <td>NaN</td>\n",
       "      <td>NaN</td>\n",
       "      <td>01/11/2018 0:00</td>\n",
       "      <td>1541027104</td>\n",
       "    </tr>\n",
       "    <tr>\n",
       "      <th>4</th>\n",
       "      <td>Barcelona - Vall Hebron</td>\n",
       "      <td>Good</td>\n",
       "      <td>Good</td>\n",
       "      <td>7.0</td>\n",
       "      <td>Good</td>\n",
       "      <td>69.0</td>\n",
       "      <td>NaN</td>\n",
       "      <td>NaN</td>\n",
       "      <td>01/11/2018 0:00</td>\n",
       "      <td>1541027104</td>\n",
       "    </tr>\n",
       "  </tbody>\n",
       "</table>\n",
       "</div>"
      ],
      "text/plain": [
       "                   Station Air Quality O3 Quality  O3 Value NO2 Quality  \\\n",
       "0        Barcelona - Sants        Good        NaN       NaN        Good   \n",
       "1     Barcelona - Eixample    Moderate       Good       1.0    Moderate   \n",
       "2       Barcelona - Gràcia        Good       Good      10.0        Good   \n",
       "3   Barcelona - Ciutadella        Good       Good       2.0        Good   \n",
       "4  Barcelona - Vall Hebron        Good       Good       7.0        Good   \n",
       "\n",
       "   NO2 Value PM10 Quality  PM10 Value        Generated   Date Time  \n",
       "0       84.0          NaN         NaN  01/11/2018 0:00  1541027104  \n",
       "1      113.0         Good        36.0  01/11/2018 0:00  1541027104  \n",
       "2       73.0          NaN         NaN  01/11/2018 0:00  1541027104  \n",
       "3       86.0          NaN         NaN  01/11/2018 0:00  1541027104  \n",
       "4       69.0          NaN         NaN  01/11/2018 0:00  1541027104  "
      ]
     },
     "execution_count": 29,
     "metadata": {},
     "output_type": "execute_result"
    }
   ],
   "source": [
    "time_index_air_quality = pd.DatetimeIndex(raw_data_selected[\"Generated\"])\n",
    "\n",
    "raw_data_selected.head()"
   ]
  }
 ],
 "metadata": {
  "kernelspec": {
   "display_name": "Python 3",
   "language": "python",
   "name": "python3"
  },
  "language_info": {
   "codemirror_mode": {
    "name": "ipython",
    "version": 3
   },
   "file_extension": ".py",
   "mimetype": "text/x-python",
   "name": "python",
   "nbconvert_exporter": "python",
   "pygments_lexer": "ipython3",
   "version": "3.7.3"
  }
 },
 "nbformat": 4,
 "nbformat_minor": 2
}
